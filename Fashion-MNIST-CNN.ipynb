{
 "cells": [
  {
   "cell_type": "markdown",
   "metadata": {
    "_uuid": "c21f34ae09d0efb5f3b8b58de9005985bbb52e06"
   },
   "source": [
    "# Classification of Fashion-MNIST using a CNN with Keras\n",
    "\n",
    "The Fashion-MNIST has 60,000 training samples and 10,000 test samples. Each sample is a 28x28 pixel grayscale (8-bit) image.\n",
    "\n",
    "Classes:\n",
    "\n",
    "|Label|Description|\n",
    "|-----|-----------|\n",
    "|0|T-shirt/top    |\n",
    "|1|Trouser        |\n",
    "|2|Pullover       |\n",
    "|3|Dress          |\n",
    "|4|Coat           |\n",
    "|5|Sandal         |\n",
    "|6|Shirt          |\n",
    "|7|Sneaker        |\n",
    "|8|Bag            |\n",
    "|9|Ankle boot     |"
   ]
  },
  {
   "cell_type": "code",
   "execution_count": 1,
   "metadata": {
    "_uuid": "adf03848634b2bdda11e125d4415e6519a815571"
   },
   "outputs": [],
   "source": [
    "import tensorflow as tf\n",
    "from tensorflow.keras.datasets import fashion_mnist\n",
    "from tensorflow.keras.models import Sequential, Model\n",
    "from tensorflow.keras.layers import Dense, Flatten, Conv2D, Dropout, MaxPooling2D\n",
    "from tensorflow.keras.utils import to_categorical\n",
    "from sklearn.model_selection import train_test_split\n",
    "\n",
    "import os\n",
    "import scipy.ndimage\n",
    "import numpy as np\n",
    "import pandas as pd\n",
    "import io\n",
    "import PIL\n",
    "import IPython\n",
    "import collections\n",
    "import hashlib\n",
    "import matplotlib.pyplot as plt\n",
    "import math\n",
    "import datetime"
   ]
  },
  {
   "cell_type": "markdown",
   "metadata": {
    "_uuid": "bf70406ffc74d85dc41cce327550ebc1c7628ba9"
   },
   "source": [
    "## Load the data\n",
    "Luckily, the Fashion-MNIST dataset is included in Keras, so this is a one-liner."
   ]
  },
  {
   "cell_type": "code",
   "execution_count": 2,
   "metadata": {
    "_uuid": "db87bd5aac056428753dc748b9c7d62153d30bc0"
   },
   "outputs": [],
   "source": [
    "(x_train_indata, y_train_indata), (x_test_indata, y_test_indata) = fashion_mnist.load_data()\n",
    "\n",
    "# for kaggle\n",
    "# data_train = pd.read_csv('../input/fashion-mnist_train.csv')\n",
    "# data_test = pd.read_csv('../input/fashion-mnist_test.csv')\n",
    "# rows = 28\n",
    "# cols = 28\n",
    "# x_train_indata = np.ascontiguousarray(data_train.iloc[:, 1:])\n",
    "# x_train_indata = x_train_indata.reshape(x_train_indata.shape[0], rows, cols)\n",
    "# y_train_indata = np.ascontiguousarray(data_train.iloc[:, 0])\n",
    "# x_test_indata = np.ascontiguousarray(data_test.iloc[:, 1:])\n",
    "# x_test_indata = x_test_indata.reshape(x_test_indata.shape[0], rows, cols)\n",
    "# y_test_indata = np.ascontiguousarray(data_test.iloc[:, 0])"
   ]
  },
  {
   "cell_type": "markdown",
   "metadata": {
    "_uuid": "ce22fe2ed297be91b002769eb013e2d7421b1945"
   },
   "source": [
    "## Data integrity\n",
    "\n",
    "Check that the data looks reasonable by looking at a few random samples from the dataset."
   ]
  },
  {
   "cell_type": "code",
   "execution_count": 3,
   "metadata": {
    "_uuid": "6f9852309d7b17199c7ac1d64169d0b284a163f9"
   },
   "outputs": [
    {
     "name": "stdout",
     "output_type": "stream",
     "text": [
      "(60000, 28, 28)\n"
     ]
    },
    {
     "data": {
      "image/png": "[encoded data removed]",
      "text/plain": [
       "<Figure size 576x288 with 10 Axes>"
      ]
     },
     "metadata": {
      "needs_background": "light"
     },
     "output_type": "display_data"
    }
   ],
   "source": [
    "def render_random_images(data, num_samples):\n",
    "    print(data.shape)\n",
    "    cols = 5\n",
    "    rows = math.ceil(num_samples/cols)\n",
    "    idxs = np.random.choice(len(data), num_samples)\n",
    "    f, ax = plt.subplots(rows, cols)\n",
    "    f.set_size_inches(8, 4)\n",
    "    for i, idx in enumerate(idxs):\n",
    "        x = i//cols\n",
    "        y = i%cols\n",
    "        if rows > 1:\n",
    "            ax[x, y].imshow(data[idx].reshape(data.shape[1], data.shape[2]))\n",
    "        else:\n",
    "            ax[i].imshow(data[idx].reshape(data.shape[1], data.shape[2]))\n",
    "    plt.show()\n",
    "    \n",
    "render_random_images(x_train_indata, 10)"
   ]
  },
  {
   "cell_type": "markdown",
   "metadata": {
    "_uuid": "3ff1a5ec1cd878fa152e82e613ecc19f3906e740"
   },
   "source": [
    "### Check for duplicates/overlaps\n",
    "Does the training data and test data contain duplicates or do they overlap?"
   ]
  },
  {
   "cell_type": "code",
   "execution_count": 4,
   "metadata": {
    "_uuid": "9f84b47721e8d2a4d766d43d11c7624fa85c7416"
   },
   "outputs": [
    {
     "name": "stdout",
     "output_type": "stream",
     "text": [
      "Overlaps between training and test sets: 0\n",
      "Duplicates in training set: False\n",
      "Duplicates in test set: False\n"
     ]
    }
   ],
   "source": [
    "def overlap(a, b):\n",
    "    ah = [hashlib.sha1(x).hexdigest() for x in a]\n",
    "    bh = [hashlib.sha1(y).hexdigest() for y in b]\n",
    "    overlaps = np.in1d(ah, bh)\n",
    "    return collections.Counter(overlaps)[True]\n",
    "\n",
    "def has_duplicates(a):\n",
    "    ah = [hashlib.sha1(x).hexdigest() for x in a]\n",
    "    _, counts = np.unique(ah, return_counts=True)    \n",
    "    if len(collections.Counter(counts).keys()) > 1:\n",
    "        return True\n",
    "    return False\n",
    "  \n",
    "print(\"Overlaps between training and test sets:\", overlap(x_train_indata, x_test_indata))\n",
    "print(\"Duplicates in training set:\", has_duplicates(x_train_indata))\n",
    "print(\"Duplicates in test set:\", has_duplicates(x_test_indata))"
   ]
  },
  {
   "cell_type": "markdown",
   "metadata": {
    "_uuid": "08f16a2c3fcca54436fe931354932d20143b6770"
   },
   "source": [
    "### Check for class imbalance"
   ]
  },
  {
   "cell_type": "code",
   "execution_count": 5,
   "metadata": {
    "_uuid": "4ca41c7b29757768c905b659b5904fd9d77f3027"
   },
   "outputs": [
    {
     "data": {
      "image/png": "[encoded data removed]",
      "text/plain": [
       "<Figure size 432x288 with 1 Axes>"
      ]
     },
     "metadata": {
      "needs_background": "light"
     },
     "output_type": "display_data"
    }
   ],
   "source": [
    "_ = plt.hist(y_train_indata, bins=range(0,11))\n",
    "_ = plt.hist(y_test_indata, bins=range(0,11))"
   ]
  },
  {
   "cell_type": "markdown",
   "metadata": {
    "_uuid": "e9fc21e891d972f24a516f13983bd1badcf94de8"
   },
   "source": [
    "The classes are equally common. This was expected, but still good to check."
   ]
  },
  {
   "cell_type": "markdown",
   "metadata": {
    "_uuid": "372299f06231a5fb5c0691e5e65248a9573cbc89"
   },
   "source": [
    "## Transform data / split"
   ]
  },
  {
   "cell_type": "code",
   "execution_count": 6,
   "metadata": {
    "_uuid": "76a455646a61c4cfc070f40a811990dafbb5c2d0"
   },
   "outputs": [],
   "source": [
    "num_classes = 10\n",
    "pixel_depth = 255.0\n",
    "\n",
    "x_train, x_validation, y_train, y_validation = train_test_split(\n",
    "    x_train_indata, \n",
    "    y_train_indata, \n",
    "    test_size=0.16666, \n",
    "    random_state=42)\n",
    "\n",
    "# print(x_train.shape)\n",
    "# print(y_train.shape)\n",
    "# print(x_validation.shape)\n",
    "# print(y_validation.shape)\n",
    "\n",
    "# Add one dimension because the CNN layers expect n feature maps (color channels)\n",
    "x_train = x_train.reshape(x_train.shape[0], x_train.shape[1], x_train.shape[2], 1)\n",
    "y_train = to_categorical(y_train, num_classes=num_classes)\n",
    "x_validation = x_validation.reshape(x_validation.shape[0], x_validation.shape[1], x_validation.shape[2], 1)\n",
    "y_validation = to_categorical(y_validation, num_classes=num_classes)\n",
    "# print()\n",
    "# print(x_train.shape)\n",
    "# print(y_train.shape)\n",
    "\n",
    "# zero-center and normalize pixels\n",
    "x_train = (x_train - (pixel_depth/2)) / pixel_depth\n",
    "x_validation = (x_validation - (pixel_depth/2)) / pixel_depth"
   ]
  },
  {
   "cell_type": "markdown",
   "metadata": {
    "_uuid": "92248993f9aa4b0e05e4217960d59edb144612eb"
   },
   "source": [
    "Re-verify that the images look correct"
   ]
  },
  {
   "cell_type": "code",
   "execution_count": 7,
   "metadata": {
    "_uuid": "bd33e68ccf9d47d7acc3ba76b6f9133098aa152f"
   },
   "outputs": [
    {
     "name": "stdout",
     "output_type": "stream",
     "text": [
      "(50000, 28, 28, 1)\n"
     ]
    },
    {
     "data": {
      "image/png": "[encoded data removed]",
      "text/plain": [
       "<Figure size 576x288 with 10 Axes>"
      ]
     },
     "metadata": {
      "needs_background": "light"
     },
     "output_type": "display_data"
    }
   ],
   "source": [
    "render_random_images(x_train, 10)"
   ]
  },
  {
   "cell_type": "markdown",
   "metadata": {
    "_uuid": "bf47e7f8ee10ef7cdaf989e942362ec46f6980ee"
   },
   "source": [
    "### Model definition and training\n",
    "\n",
    "The model will start out simple with only one convolutional layer"
   ]
  },
  {
   "cell_type": "code",
   "execution_count": 8,
   "metadata": {},
   "outputs": [],
   "source": [
    "def eval1d(model):\n",
    "    score = model.evaluate(np.reshape(x_validation, (x_validation.shape[0], 784)), y_validation, verbose=0)\n",
    "    for i, _ in enumerate(score):\n",
    "        print(model.metrics_names[i], score[i])"
   ]
  },
  {
   "cell_type": "code",
   "execution_count": 9,
   "metadata": {},
   "outputs": [],
   "source": [
    "def eval(model):\n",
    "    score = model.evaluate(x_validation, y_validation, verbose=0)\n",
    "    for i, _ in enumerate(score):\n",
    "        print(model.metrics_names[i], score[i])"
   ]
  },
  {
   "cell_type": "code",
   "execution_count": 10,
   "metadata": {},
   "outputs": [],
   "source": [
    "def model0():\n",
    "    model = Sequential()\n",
    "    model.add(Dense(num_classes, activation='softmax',input_shape=(784,)))\n",
    "    model.custom_name = 'model0'\n",
    "    return model"
   ]
  },
  {
   "cell_type": "code",
   "execution_count": 11,
   "metadata": {},
   "outputs": [],
   "source": [
    "def model1():\n",
    "    model = Sequential()\n",
    "    model.add(Conv2D(32, kernel_size=(1,1), input_shape=(28,28,1)))\n",
    "    model.add(Flatten())\n",
    "    model.add(Dense(num_classes, activation='softmax', kernel_regularizer=tf.keras.regularizers.l2(0.01)))\n",
    "    model.custom_name = 'model1'\n",
    "    return model"
   ]
  },
  {
   "cell_type": "code",
   "execution_count": 12,
   "metadata": {},
   "outputs": [],
   "source": [
    "def model2():\n",
    "    model = Sequential()\n",
    "    model.add(Conv2D(32, kernel_size=(3,3), input_shape=(28,28,1)))\n",
    "    model.add(MaxPooling2D(pool_size=(2, 2), strides=None, padding='valid', data_format=None))\n",
    "    model.add(Conv2D(16, kernel_size=(2,2)))\n",
    "    model.add(MaxPooling2D(pool_size=(2, 2), strides=None, padding='valid', data_format=None))\n",
    "    model.add(Conv2D(16, kernel_size=(2,2)))\n",
    "    model.add(Flatten())\n",
    "    model.add(Dense(num_classes, activation='softmax', kernel_regularizer=tf.keras.regularizers.l2(0.01)))\n",
    "    model.custom_name = 'model2'\n",
    "    return model"
   ]
  },
  {
   "cell_type": "code",
   "execution_count": 13,
   "metadata": {
    "_uuid": "9c2088b5b13e0b100f477478ca62477e1984287b"
   },
   "outputs": [
    {
     "name": "stdout",
     "output_type": "stream",
     "text": [
      "_________________________________________________________________\n",
      "Layer (type)                 Output Shape              Param #   \n",
      "=================================================================\n",
      "dense (Dense)                (None, 10)                7850      \n",
      "=================================================================\n",
      "Total params: 7,850\n",
      "Trainable params: 7,850\n",
      "Non-trainable params: 0\n",
      "_________________________________________________________________\n",
      "Train on 50000 samples, validate on 10000 samples\n",
      "Epoch 1/30\n",
      "50000/50000 [==============================] - 8s 164us/step - loss: 0.5889 - acc: 0.7975 - val_loss: 0.4995 - val_acc: 0.8226\n",
      "Epoch 2/30\n",
      "50000/50000 [==============================] - 7s 147us/step - loss: 0.4658 - acc: 0.8394 - val_loss: 0.4646 - val_acc: 0.8416\n",
      "Epoch 3/30\n",
      "50000/50000 [==============================] - 8s 154us/step - loss: 0.4430 - acc: 0.8454 - val_loss: 0.4510 - val_acc: 0.8425\n",
      "Epoch 4/30\n",
      "50000/50000 [==============================] - 7s 140us/step - loss: 0.4288 - acc: 0.8512 - val_loss: 0.4518 - val_acc: 0.8421\n",
      "Epoch 5/30\n",
      "50000/50000 [==============================] - 8s 160us/step - loss: 0.4211 - acc: 0.8533 - val_loss: 0.4508 - val_acc: 0.8428\n",
      "Epoch 6/30\n",
      "50000/50000 [==============================] - 8s 154us/step - loss: 0.4142 - acc: 0.8551 - val_loss: 0.4459 - val_acc: 0.8416\n",
      "Epoch 7/30\n",
      "50000/50000 [==============================] - 8s 154us/step - loss: 0.4100 - acc: 0.8564 - val_loss: 0.4389 - val_acc: 0.8447\n",
      "Epoch 8/30\n",
      "50000/50000 [==============================] - 9s 176us/step - loss: 0.4056 - acc: 0.8580 - val_loss: 0.4568 - val_acc: 0.8333\n",
      "Epoch 9/30\n",
      "50000/50000 [==============================] - 7s 147us/step - loss: 0.4037 - acc: 0.8592 - val_loss: 0.4339 - val_acc: 0.8442\n",
      "Epoch 10/30\n",
      "50000/50000 [==============================] - 8s 152us/step - loss: 0.3993 - acc: 0.8599 - val_loss: 0.4313 - val_acc: 0.8487\n",
      "Epoch 11/30\n",
      "50000/50000 [==============================] - 8s 161us/step - loss: 0.3957 - acc: 0.8630 - val_loss: 0.4354 - val_acc: 0.8468\n",
      "Epoch 12/30\n",
      "50000/50000 [==============================] - 7s 142us/step - loss: 0.3947 - acc: 0.8613 - val_loss: 0.4350 - val_acc: 0.8467\n",
      "Epoch 13/30\n",
      "50000/50000 [==============================] - 7s 142us/step - loss: 0.3922 - acc: 0.8634 - val_loss: 0.4323 - val_acc: 0.8475\n",
      "Epoch 14/30\n",
      "50000/50000 [==============================] - 7s 148us/step - loss: 0.3891 - acc: 0.8637 - val_loss: 0.4210 - val_acc: 0.8516\n",
      "Epoch 15/30\n",
      "50000/50000 [==============================] - 7s 143us/step - loss: 0.3891 - acc: 0.8640 - val_loss: 0.4425 - val_acc: 0.8440\n",
      "Epoch 16/30\n",
      "50000/50000 [==============================] - 6s 127us/step - loss: 0.3877 - acc: 0.8643 - val_loss: 0.4258 - val_acc: 0.8461\n",
      "Epoch 17/30\n",
      "50000/50000 [==============================] - 6s 128us/step - loss: 0.3859 - acc: 0.8646 - val_loss: 0.4266 - val_acc: 0.8506\n",
      "Epoch 18/30\n",
      "50000/50000 [==============================] - 6s 123us/step - loss: 0.3855 - acc: 0.8651 - val_loss: 0.4241 - val_acc: 0.8493\n",
      "Epoch 19/30\n",
      "50000/50000 [==============================] - 6s 126us/step - loss: 0.3833 - acc: 0.8658 - val_loss: 0.4261 - val_acc: 0.8499\n",
      "Epoch 20/30\n",
      "50000/50000 [==============================] - 6s 127us/step - loss: 0.3817 - acc: 0.8662 - val_loss: 0.4316 - val_acc: 0.8473\n",
      "Epoch 21/30\n",
      "50000/50000 [==============================] - 6s 124us/step - loss: 0.3810 - acc: 0.8657 - val_loss: 0.4328 - val_acc: 0.8490\n",
      "Epoch 22/30\n",
      "50000/50000 [==============================] - 6s 126us/step - loss: 0.3810 - acc: 0.8666 - val_loss: 0.4297 - val_acc: 0.8444\n",
      "Epoch 23/30\n",
      "50000/50000 [==============================] - 6s 124us/step - loss: 0.3783 - acc: 0.8664 - val_loss: 0.4270 - val_acc: 0.8497\n",
      "Epoch 24/30\n",
      "50000/50000 [==============================] - 6s 125us/step - loss: 0.3775 - acc: 0.8672 - val_loss: 0.4425 - val_acc: 0.8467\n",
      "Epoch 25/30\n",
      "50000/50000 [==============================] - 6s 123us/step - loss: 0.3774 - acc: 0.8666 - val_loss: 0.4277 - val_acc: 0.8489\n",
      "Epoch 26/30\n",
      "50000/50000 [==============================] - 6s 124us/step - loss: 0.3762 - acc: 0.8685 - val_loss: 0.4301 - val_acc: 0.8479\n",
      "Epoch 27/30\n",
      "50000/50000 [==============================] - 6s 124us/step - loss: 0.3768 - acc: 0.8679 - val_loss: 0.4324 - val_acc: 0.8503\n",
      "Epoch 28/30\n",
      "50000/50000 [==============================] - 6s 123us/step - loss: 0.3742 - acc: 0.8695 - val_loss: 0.4365 - val_acc: 0.8477\n",
      "Epoch 29/30\n",
      "50000/50000 [==============================] - 7s 132us/step - loss: 0.3739 - acc: 0.8678 - val_loss: 0.4240 - val_acc: 0.8507\n",
      "Epoch 30/30\n",
      "50000/50000 [==============================] - 6s 125us/step - loss: 0.3741 - acc: 0.8677 - val_loss: 0.4279 - val_acc: 0.8504\n",
      "loss 0.42786687097549436\n",
      "acc 0.8504\n",
      "_________________________________________________________________\n",
      "Layer (type)                 Output Shape              Param #   \n",
      "=================================================================\n",
      "conv2d (Conv2D)              (None, 28, 28, 32)        64        \n",
      "_________________________________________________________________\n",
      "flatten (Flatten)            (None, 25088)             0         \n",
      "_________________________________________________________________\n",
      "dense (Dense)                (None, 10)                250890    \n",
      "=================================================================\n",
      "Total params: 250,954\n",
      "Trainable params: 250,954\n",
      "Non-trainable params: 0\n",
      "_________________________________________________________________\n",
      "Train on 50000 samples, validate on 10000 samples\n",
      "Epoch 1/30\n",
      "50000/50000 [==============================] - 56s 1ms/step - loss: 0.7481 - acc: 0.7872 - val_loss: 0.6870 - val_acc: 0.7957\n",
      "Epoch 2/30\n",
      "50000/50000 [==============================] - 57s 1ms/step - loss: 0.6680 - acc: 0.8069 - val_loss: 0.6480 - val_acc: 0.8100\n",
      "Epoch 3/30\n",
      "50000/50000 [==============================] - 57s 1ms/step - loss: 0.6328 - acc: 0.8143 - val_loss: 0.6248 - val_acc: 0.8211\n",
      "Epoch 4/30\n",
      "50000/50000 [==============================] - 56s 1ms/step - loss: 0.6211 - acc: 0.8186 - val_loss: 0.5979 - val_acc: 0.8231\n",
      "Epoch 5/30\n",
      "50000/50000 [==============================] - 60s 1ms/step - loss: 0.6061 - acc: 0.8198 - val_loss: 0.6002 - val_acc: 0.8237\n",
      "Epoch 6/30\n",
      "50000/50000 [==============================] - 65s 1ms/step - loss: 0.5920 - acc: 0.8229 - val_loss: 0.5765 - val_acc: 0.8328\n",
      "Epoch 7/30\n",
      "50000/50000 [==============================] - 79s 2ms/step - loss: 0.5794 - acc: 0.8271 - val_loss: 0.5889 - val_acc: 0.8217\n",
      "Epoch 8/30\n",
      "50000/50000 [==============================] - 55s 1ms/step - loss: 0.5713 - acc: 0.8261 - val_loss: 0.5993 - val_acc: 0.8235\n",
      "Epoch 9/30\n",
      "50000/50000 [==============================] - 51s 1ms/step - loss: 0.5656 - acc: 0.8292 - val_loss: 0.5595 - val_acc: 0.8272\n",
      "Epoch 10/30\n",
      "50000/50000 [==============================] - 53s 1ms/step - loss: 0.5634 - acc: 0.8291 - val_loss: 0.5810 - val_acc: 0.8269\n",
      "Epoch 11/30\n",
      "50000/50000 [==============================] - 55s 1ms/step - loss: 0.5570 - acc: 0.8289 - val_loss: 0.5875 - val_acc: 0.8129\n",
      "Epoch 12/30\n",
      "50000/50000 [==============================] - 54s 1ms/step - loss: 0.5511 - acc: 0.8334 - val_loss: 0.5604 - val_acc: 0.8287\n",
      "Epoch 13/30\n",
      "50000/50000 [==============================] - 56s 1ms/step - loss: 0.5420 - acc: 0.8360 - val_loss: 0.5642 - val_acc: 0.8253\n",
      "Epoch 14/30\n",
      "50000/50000 [==============================] - 55s 1ms/step - loss: 0.5392 - acc: 0.8368 - val_loss: 0.5568 - val_acc: 0.8322\n",
      "Epoch 15/30\n",
      "50000/50000 [==============================] - 52s 1ms/step - loss: 0.5389 - acc: 0.8341 - val_loss: 0.5398 - val_acc: 0.8349\n",
      "Epoch 16/30\n",
      "50000/50000 [==============================] - 55s 1ms/step - loss: 0.5381 - acc: 0.8357 - val_loss: 0.5607 - val_acc: 0.8318\n",
      "Epoch 17/30\n",
      "50000/50000 [==============================] - 53s 1ms/step - loss: 0.5386 - acc: 0.8355 - val_loss: 0.5446 - val_acc: 0.8351\n",
      "Epoch 18/30\n",
      "50000/50000 [==============================] - 56s 1ms/step - loss: 0.5381 - acc: 0.8360 - val_loss: 0.5374 - val_acc: 0.8371\n",
      "Epoch 19/30\n",
      "50000/50000 [==============================] - 53s 1ms/step - loss: 0.5392 - acc: 0.8351 - val_loss: 0.5974 - val_acc: 0.8216\n",
      "Epoch 20/30\n",
      "50000/50000 [==============================] - 54s 1ms/step - loss: 0.5351 - acc: 0.8355 - val_loss: 0.5359 - val_acc: 0.8336\n",
      "Epoch 21/30\n",
      "50000/50000 [==============================] - 53s 1ms/step - loss: 0.5362 - acc: 0.8361 - val_loss: 0.5486 - val_acc: 0.8278\n",
      "Epoch 22/30\n",
      "50000/50000 [==============================] - 54s 1ms/step - loss: 0.5356 - acc: 0.8367 - val_loss: 0.5299 - val_acc: 0.8411\n",
      "loss 0.5299135594844818\n",
      "acc 0.8411\n",
      "_________________________________________________________________\n",
      "Layer (type)                 Output Shape              Param #   \n",
      "=================================================================\n",
      "conv2d (Conv2D)              (None, 26, 26, 32)        320       \n",
      "_________________________________________________________________\n",
      "max_pooling2d (MaxPooling2D) (None, 13, 13, 32)        0         \n",
      "_________________________________________________________________\n",
      "conv2d_1 (Conv2D)            (None, 12, 12, 16)        2064      \n",
      "_________________________________________________________________\n",
      "max_pooling2d_1 (MaxPooling2 (None, 6, 6, 16)          0         \n",
      "_________________________________________________________________\n",
      "conv2d_2 (Conv2D)            (None, 5, 5, 16)          1040      \n",
      "_________________________________________________________________\n",
      "flatten (Flatten)            (None, 400)               0         \n",
      "_________________________________________________________________\n",
      "dense (Dense)                (None, 10)                4010      \n",
      "=================================================================\n",
      "Total params: 7,434\n",
      "Trainable params: 7,434\n",
      "Non-trainable params: 0\n",
      "_________________________________________________________________\n",
      "Train on 50000 samples, validate on 10000 samples\n",
      "Epoch 1/30\n",
      "50000/50000 [==============================] - 41s 822us/step - loss: 0.6904 - acc: 0.7979 - val_loss: 0.5378 - val_acc: 0.8353\n",
      "Epoch 2/30\n",
      "50000/50000 [==============================] - 50s 998us/step - loss: 0.4778 - acc: 0.8551 - val_loss: 0.4749 - val_acc: 0.8533\n",
      "Epoch 3/30\n",
      "50000/50000 [==============================] - 58s 1ms/step - loss: 0.4377 - acc: 0.8645 - val_loss: 0.4149 - val_acc: 0.8693\n",
      "Epoch 4/30\n",
      "50000/50000 [==============================] - 42s 833us/step - loss: 0.4164 - acc: 0.8705 - val_loss: 0.4313 - val_acc: 0.8627\n",
      "Epoch 5/30\n",
      "50000/50000 [==============================] - 39s 777us/step - loss: 0.4045 - acc: 0.8738 - val_loss: 0.3945 - val_acc: 0.8771\n",
      "Epoch 6/30\n",
      "50000/50000 [==============================] - 50s 1ms/step - loss: 0.3945 - acc: 0.8763 - val_loss: 0.3936 - val_acc: 0.8750\n",
      "Epoch 7/30\n",
      "50000/50000 [==============================] - 52s 1ms/step - loss: 0.3836 - acc: 0.8812 - val_loss: 0.3799 - val_acc: 0.8789\n",
      "Epoch 8/30\n",
      "50000/50000 [==============================] - 42s 837us/step - loss: 0.3777 - acc: 0.8814 - val_loss: 0.3924 - val_acc: 0.8765\n",
      "Epoch 9/30\n",
      "50000/50000 [==============================] - 43s 854us/step - loss: 0.3733 - acc: 0.8842 - val_loss: 0.3954 - val_acc: 0.8770\n",
      "Epoch 10/30\n",
      "50000/50000 [==============================] - 41s 813us/step - loss: 0.3676 - acc: 0.8843 - val_loss: 0.3838 - val_acc: 0.8768\n",
      "Epoch 11/30\n",
      "50000/50000 [==============================] - 41s 814us/step - loss: 0.3631 - acc: 0.8878 - val_loss: 0.3792 - val_acc: 0.8774\n",
      "Epoch 12/30\n",
      "50000/50000 [==============================] - 43s 865us/step - loss: 0.3588 - acc: 0.8889 - val_loss: 0.3734 - val_acc: 0.8820\n",
      "Epoch 13/30\n",
      "50000/50000 [==============================] - 44s 882us/step - loss: 0.3550 - acc: 0.8891 - val_loss: 0.3754 - val_acc: 0.8831\n",
      "Epoch 14/30\n",
      "50000/50000 [==============================] - 47s 934us/step - loss: 0.3519 - acc: 0.8909 - val_loss: 0.3675 - val_acc: 0.8868\n",
      "Epoch 15/30\n",
      "50000/50000 [==============================] - 42s 847us/step - loss: 0.3517 - acc: 0.8902 - val_loss: 0.3777 - val_acc: 0.8775\n",
      "Epoch 16/30\n",
      "50000/50000 [==============================] - 42s 833us/step - loss: 0.3481 - acc: 0.8929 - val_loss: 0.3633 - val_acc: 0.8858\n",
      "Epoch 17/30\n",
      "50000/50000 [==============================] - 41s 827us/step - loss: 0.3449 - acc: 0.8928 - val_loss: 0.3872 - val_acc: 0.8773\n",
      "Epoch 18/30\n",
      "50000/50000 [==============================] - 42s 831us/step - loss: 0.3406 - acc: 0.8954 - val_loss: 0.3639 - val_acc: 0.8888\n",
      "Epoch 19/30\n",
      "50000/50000 [==============================] - 42s 844us/step - loss: 0.3394 - acc: 0.8948 - val_loss: 0.3642 - val_acc: 0.8853\n",
      "Epoch 20/30\n",
      "50000/50000 [==============================] - 42s 850us/step - loss: 0.3387 - acc: 0.8955 - val_loss: 0.3669 - val_acc: 0.8841\n",
      "Epoch 21/30\n",
      "50000/50000 [==============================] - 42s 845us/step - loss: 0.3357 - acc: 0.8958 - val_loss: 0.3624 - val_acc: 0.8897\n",
      "Epoch 22/30\n",
      "50000/50000 [==============================] - 42s 841us/step - loss: 0.3326 - acc: 0.8971 - val_loss: 0.3588 - val_acc: 0.8887\n",
      "Epoch 23/30\n",
      "50000/50000 [==============================] - 41s 827us/step - loss: 0.3320 - acc: 0.8985 - val_loss: 0.3640 - val_acc: 0.8886\n",
      "Epoch 24/30\n",
      "50000/50000 [==============================] - 41s 818us/step - loss: 0.3300 - acc: 0.8991 - val_loss: 0.3643 - val_acc: 0.8858\n",
      "Epoch 25/30\n",
      "50000/50000 [==============================] - 42s 834us/step - loss: 0.3305 - acc: 0.8979 - val_loss: 0.3675 - val_acc: 0.8847\n",
      "Epoch 26/30\n",
      "50000/50000 [==============================] - 42s 844us/step - loss: 0.3270 - acc: 0.8993 - val_loss: 0.3507 - val_acc: 0.8890\n",
      "Epoch 27/30\n",
      "50000/50000 [==============================] - 41s 828us/step - loss: 0.3270 - acc: 0.8998 - val_loss: 0.3897 - val_acc: 0.8769\n",
      "Epoch 28/30\n",
      "50000/50000 [==============================] - 42s 843us/step - loss: 0.3233 - acc: 0.9002 - val_loss: 0.3499 - val_acc: 0.8900\n",
      "Epoch 29/30\n",
      "50000/50000 [==============================] - 42s 847us/step - loss: 0.3225 - acc: 0.9002 - val_loss: 0.3568 - val_acc: 0.8881\n",
      "Epoch 30/30\n",
      "50000/50000 [==============================] - 43s 857us/step - loss: 0.3212 - acc: 0.9007 - val_loss: 0.3593 - val_acc: 0.8892\n",
      "loss 0.35930051035881044\n",
      "acc 0.8892\n"
     ]
    }
   ],
   "source": [
    "def run(model):\n",
    "    epochs = 30\n",
    "    batch_size = 32\n",
    "#     sgd = tf.keras.optimizers.SGD(lr=0.01, momentum=0.0, decay=0.0, nesterov=False)\n",
    "    adam = tf.keras.optimizers.Adam(lr=0.001)\n",
    "    model.compile(optimizer=adam,\n",
    "                  loss='categorical_crossentropy',\n",
    "                  metrics=['accuracy'])\n",
    "    model.summary()\n",
    "    run_name = datetime.datetime.now().strftime(\"_run_%Y-%m-%dT%H_%M_%S\")\n",
    "    tb_cb = tf.keras.callbacks.TensorBoard(log_dir=\"./graph/\" + model.custom_name + run_name,\n",
    "                                           histogram_freq=1,\n",
    "                                           write_graph=False,\n",
    "                                           write_images=True,\n",
    "                                           write_grads=True)\n",
    "    es_cb = tf.keras.callbacks.EarlyStopping(monitor='loss',\n",
    "                                  min_delta=0,\n",
    "                                  patience=2,\n",
    "                                  verbose=0, mode='auto')\n",
    "    \n",
    "    if model.custom_name == 'model0':\n",
    "        model.fit(np.reshape(x_train, (x_train.shape[0], 784)),\n",
    "                  y_train,\n",
    "                  validation_data=(np.reshape(x_validation, (x_validation.shape[0], 784)), y_validation),\n",
    "                  epochs=epochs,\n",
    "                  batch_size=batch_size,\n",
    "                  callbacks=[es_cb, tb_cb])\n",
    "        eval1d(model)\n",
    "    else:\n",
    "        model.fit(x_train, \n",
    "                  y_train,\n",
    "                  validation_data=(x_validation, y_validation),\n",
    "                  epochs=epochs,\n",
    "                  batch_size=batch_size,\n",
    "                  callbacks=[es_cb, tb_cb])\n",
    "        eval(model)\n",
    "\n",
    "tf.keras.backend.clear_session()\n",
    "run(model0())\n",
    "tf.keras.backend.clear_session()\n",
    "run(model1())\n",
    "tf.keras.backend.clear_session()\n",
    "run(model2())"
   ]
  },
  {
   "cell_type": "code",
   "execution_count": 14,
   "metadata": {},
   "outputs": [],
   "source": [
    "def upsample_images(data):\n",
    "    # can also be done using \n",
    "    # x_train_zoom = scipy.ndimage.zoom(x_train, (1,3,3,1), order=0)\n",
    "    # x_validation_zoom = scipy.ndimage.zoom(x_validation, (1,3,3,1), order=0)\n",
    "    n = len(data)\n",
    "    out = np.empty((n,84,84,1))\n",
    "    for i in range(n):\n",
    "        img = x_train[i,:,:,:]\n",
    "        zoomed = scipy.ndimage.zoom(img, (3,3,1), order=0)\n",
    "        out[i] = zoomed\n",
    "    return out\n",
    "\n",
    "# x_train_zoom = upsample_images(x_train)\n",
    "# x_validation_zoom = upsample_images(x_validation)\n",
    "\n",
    "\n",
    "fname1 = 'x_train_inc.npy'\n",
    "fname2 = 'x_validation_inc.npy'\n",
    "if not (os.path.isfile(fname1) and os.path.isfile(fname2)):\n",
    "    print('generating')\n",
    "    x_train_zoom = scipy.ndimage.zoom(x_train, (1,3,3,1), order=0)\n",
    "    x_validation_zoom = scipy.ndimage.zoom(x_validation, (1,3,3,1), order=0)\n",
    "    %time x_train_inc = np.repeat(x_train_zoom, 3, axis=3)\n",
    "    %time x_validation_inc = np.repeat(x_train_zoom, 3, axis=3)\n",
    "    np.save(fname1, x_train_inc)\n",
    "    np.save(fname2, x_validation_inc)\n",
    "else:\n",
    "    print('loading')\n",
    "    %time x_train_inc = np.load(fname1)\n",
    "    %time x_validation_inc = np.load(fname2)"
   ]
  },
  {
   "cell_type": "code",
   "execution_count": 15,
   "metadata": {},
   "outputs": [
    {
     "ename": "NameError",
     "evalue": "name 'x_train_inc' is not defined",
     "output_type": "error",
     "traceback": [
      "\u001b[0;31m---------------------------------------------------------------------------\u001b[0m",
      "\u001b[0;31mNameError\u001b[0m                                 Traceback (most recent call last)",
      "\u001b[0;32m<ipython-input-15-10648e647110>\u001b[0m in \u001b[0;36m<module>\u001b[0;34m\u001b[0m\n\u001b[0;32m----> 1\u001b[0;31m \u001b[0mrender_random_images\u001b[0m\u001b[0;34m(\u001b[0m\u001b[0mx_train_inc\u001b[0m\u001b[0;34m[\u001b[0m\u001b[0;34m:\u001b[0m\u001b[0;34m,\u001b[0m\u001b[0;34m:\u001b[0m\u001b[0;34m,\u001b[0m\u001b[0;34m:\u001b[0m\u001b[0;34m,\u001b[0m\u001b[0;36m0\u001b[0m\u001b[0;34m]\u001b[0m\u001b[0;34m,\u001b[0m \u001b[0;36m5\u001b[0m\u001b[0;34m)\u001b[0m\u001b[0;34m\u001b[0m\u001b[0;34m\u001b[0m\u001b[0m\n\u001b[0m\u001b[1;32m      2\u001b[0m \u001b[0mrender_random_images\u001b[0m\u001b[0;34m(\u001b[0m\u001b[0mx_train_inc\u001b[0m\u001b[0;34m[\u001b[0m\u001b[0;34m:\u001b[0m\u001b[0;34m,\u001b[0m\u001b[0;34m:\u001b[0m\u001b[0;34m,\u001b[0m\u001b[0;34m:\u001b[0m\u001b[0;34m,\u001b[0m\u001b[0;36m1\u001b[0m\u001b[0;34m]\u001b[0m\u001b[0;34m,\u001b[0m \u001b[0;36m5\u001b[0m\u001b[0;34m)\u001b[0m\u001b[0;34m\u001b[0m\u001b[0;34m\u001b[0m\u001b[0m\n\u001b[1;32m      3\u001b[0m \u001b[0mrender_random_images\u001b[0m\u001b[0;34m(\u001b[0m\u001b[0mx_train_inc\u001b[0m\u001b[0;34m[\u001b[0m\u001b[0;34m:\u001b[0m\u001b[0;34m,\u001b[0m\u001b[0;34m:\u001b[0m\u001b[0;34m,\u001b[0m\u001b[0;34m:\u001b[0m\u001b[0;34m,\u001b[0m\u001b[0;36m2\u001b[0m\u001b[0;34m]\u001b[0m\u001b[0;34m,\u001b[0m \u001b[0;36m5\u001b[0m\u001b[0;34m)\u001b[0m\u001b[0;34m\u001b[0m\u001b[0;34m\u001b[0m\u001b[0m\n",
      "\u001b[0;31mNameError\u001b[0m: name 'x_train_inc' is not defined"
     ]
    }
   ],
   "source": [
    "render_random_images(x_train_inc[:,:,:,0], 5)\n",
    "render_random_images(x_train_inc[:,:,:,1], 5)\n",
    "render_random_images(x_train_inc[:,:,:,2], 5)"
   ]
  },
  {
   "cell_type": "code",
   "execution_count": null,
   "metadata": {},
   "outputs": [],
   "source": [
    "# x_train_inc.\n",
    "\n",
    "def model3():\n",
    "    freeze_layers = 1\n",
    "    model = tf.keras.applications.inception_resnet_v2.InceptionResNetV2(\n",
    "                                                            include_top=False,\n",
    "                                                            weights='imagenet',\n",
    "                                                            input_tensor=None,\n",
    "                                                            input_shape=(84,84,3),\n",
    "                                                            pooling=None)\n",
    "\n",
    "    x = model.output\n",
    "    x = Flatten()(x)\n",
    "    x = Dropout(0.5)(x)\n",
    "    output_layer = Dense(num_classes, activation='softmax', name='softmax')(x)\n",
    "    model_final = Model(inputs=model.input, outputs=output_layer)\n",
    "    for layer in model_final.layers[:-freeze_layers]:\n",
    "        layer.trainable = False\n",
    "    for layer in model_final.layers[-freeze_layers:]:\n",
    "        layer.trainable = True\n",
    "    return model\n",
    "\n",
    "def run_model3(model):\n",
    "    epochs = 30\n",
    "    batch_size = 32\n",
    "#     sgd = tf.keras.optimizers.SGD(lr=0.01, momentum=0.0, decay=0.0, nesterov=False)\n",
    "    adam = tf.keras.optimizers.Adam(lr=0.001)\n",
    "    model.compile(optimizer=adam,\n",
    "                  loss='categorical_crossentropy',\n",
    "                  metrics=['accuracy'])\n",
    "#     model.summary()\n",
    "    run_name = datetime.datetime.now().strftime(\"_run_%Y-%m-%dT%H_%M_%S\")\n",
    "    tb_cb = tf.keras.callbacks.TensorBoard(log_dir=\"./graph/\" + model.custom_name + run_name,\n",
    "                                           histogram_freq=1,\n",
    "                                           write_graph=False,\n",
    "                                           write_images=True,\n",
    "                                           write_grads=True)\n",
    "    es_cb = tf.keras.callbacks.EarlyStopping(monitor='loss',\n",
    "                                  min_delta=0,\n",
    "                                  patience=2,\n",
    "                                  verbose=0, mode='auto')\n",
    "    \n",
    "    model.fit(x_train_inc), \n",
    "              y_train_inc,\n",
    "              validation_data=(x_validation_inc, y_validation_inc),\n",
    "              epochs=epochs,\n",
    "              batch_size=batch_size,\n",
    "              callbacks=[es_cb, tb_cb])\n",
    "\n",
    "    # evaluate model\n",
    "    score = model.evaluate(x_validation_inc, y_validation, verbose=0)\n",
    "    for i, _ in enumerate(score):\n",
    "        print(model.metrics_names[i], score[i])\n",
    "    \n",
    "run_model3(model3())"
   ]
  }
 ],
 "metadata": {
  "kernelspec": {
   "display_name": "Python 3",
   "language": "python",
   "name": "python3"
  },
  "language_info": {
   "codemirror_mode": {
    "name": "ipython",
    "version": 3
   },
   "file_extension": ".py",
   "mimetype": "text/x-python",
   "name": "python",
   "nbconvert_exporter": "python",
   "pygments_lexer": "ipython3",
   "version": "3.6.8"
  }
 },
 "nbformat": 4,
 "nbformat_minor": 2
}
